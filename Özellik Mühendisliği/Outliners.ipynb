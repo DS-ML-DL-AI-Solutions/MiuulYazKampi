{
 "cells": [
  {
   "cell_type": "markdown",
   "metadata": {
    "pycharm": {
     "name": "#%% md\n"
    }
   },
   "source": [
    "# Özellik Mühendisliği & Veri Ön İşleme(Feature Engineering & Data Preprocessing)"
   ]
  },
  {
   "cell_type": "markdown",
   "metadata": {
    "pycharm": {
     "name": "#%% md\n"
    }
   },
   "source": [
    "- Eğer veriniz kötüyse makine öğrenim araçlarınız kullanışlı olmayacaktır.\n",
    "- Dünyanın en önemli kaynağı petrol değil veridir.\n",
    "Özellik mühendisliği: Özellik üzerinde gerçekleştirilen çalışmalar ve ham veriden değişken üretmektir.\n",
    "Veri Ön İşleme: Çalışmalar öncesi verinin uygun hale getirilmesi sürecidir."
   ]
  },
  {
   "cell_type": "markdown",
   "metadata": {
    "pycharm": {
     "name": "#%% md\n"
    }
   },
   "source": [
    "## OUTLIERS(Aykırı Değerler)\n",
    "- Verideki genel eğilimin oldukça dışına çıkan değerlere **aykırı değer** denir.\n",
    "- Özellikle doğrusal problemlerde aykırı değerlerin şiddeti oldukça güçlüdür.\n",
    "- Ağaç yöntemlerinde bu etkiler daha düşüktür."
   ]
  },
  {
   "cell_type": "markdown",
   "metadata": {
    "pycharm": {
     "name": "#%% md\n"
    }
   },
   "source": [
    "**Aykırı Değerler Neye Göre Belirlenir?**\n",
    "- Sektör Bilgisi\n",
    "- Standart Sapma Yaklaşımı\n",
    "- Z-Skoru Yaklaşımı\n",
    "- Boxplot(interquirtile range -IQR) Yaklaşımı => En çok tercih edilen yaklaşımdır."
   ]
  },
  {
   "cell_type": "markdown",
   "metadata": {
    "pycharm": {
     "name": "#%% md\n"
    }
   },
   "source": [
    "## IQR (Interquartile Range)\n",
    "<img src=\"https://i0.wp.com/ravenfo.com/wp-content/uploads/2021/02/kutu-grafigi.png?resize=612%2C400&ssl=1\">"
   ]
  },
  {
   "cell_type": "code",
   "execution_count": 1,
   "metadata": {
    "pycharm": {
     "name": "#%%\n"
    }
   },
   "outputs": [],
   "source": [
    "import numpy as np\n",
    "import pandas as pd\n",
    "import seaborn as sns\n",
    "from matplotlib import pyplot as plt\n",
    "# !pip install missingno\n",
    "import missingno as msno\n",
    "from datetime import date\n",
    "from sklearn.metrics import accuracy_score\n",
    "from sklearn.model_selection import train_test_split\n",
    "from sklearn.neighbors import LocalOutlierFactor\n",
    "from sklearn.preprocessing import MinMaxScaler, LabelEncoder, StandardScaler, RobustScaler"
   ]
  },
  {
   "cell_type": "code",
   "execution_count": 2,
   "metadata": {
    "pycharm": {
     "name": "#%%\n"
    }
   },
   "outputs": [],
   "source": [
    "pd.set_option('display.max_columns', None)\n",
    "pd.set_option('display.max_rows', None)\n",
    "pd.set_option('display.float_format', lambda x: '%.3f' % x)"
   ]
  },
  {
   "cell_type": "code",
   "execution_count": 3,
   "metadata": {
    "pycharm": {
     "name": "#%%\n"
    }
   },
   "outputs": [
    {
     "data": {
      "text/plain": "   SK_ID_CURR  TARGET NAME_CONTRACT_TYPE CODE_GENDER FLAG_OWN_CAR  \\\n0      100002       1         Cash loans           M            N   \n1      100003       0         Cash loans           F            N   \n2      100004       0    Revolving loans           M            Y   \n3      100006       0         Cash loans           F            N   \n4      100007       0         Cash loans           M            N   \n\n  FLAG_OWN_REALTY  CNT_CHILDREN  AMT_INCOME_TOTAL  AMT_CREDIT  AMT_ANNUITY  \\\n0               Y             0        202500.000  406597.500    24700.500   \n1               N             0        270000.000 1293502.500    35698.500   \n2               Y             0         67500.000  135000.000     6750.000   \n3               Y             0        135000.000  312682.500    29686.500   \n4               Y             0        121500.000  513000.000    21865.500   \n\n   AMT_GOODS_PRICE NAME_TYPE_SUITE NAME_INCOME_TYPE  \\\n0       351000.000   Unaccompanied          Working   \n1      1129500.000          Family    State servant   \n2       135000.000   Unaccompanied          Working   \n3       297000.000   Unaccompanied          Working   \n4       513000.000   Unaccompanied          Working   \n\n             NAME_EDUCATION_TYPE    NAME_FAMILY_STATUS  NAME_HOUSING_TYPE  \\\n0  Secondary / secondary special  Single / not married  House / apartment   \n1               Higher education               Married  House / apartment   \n2  Secondary / secondary special  Single / not married  House / apartment   \n3  Secondary / secondary special        Civil marriage  House / apartment   \n4  Secondary / secondary special  Single / not married  House / apartment   \n\n   REGION_POPULATION_RELATIVE  DAYS_BIRTH  DAYS_EMPLOYED  DAYS_REGISTRATION  \\\n0                       0.019       -9461           -637          -3648.000   \n1                       0.004      -16765          -1188          -1186.000   \n2                       0.010      -19046           -225          -4260.000   \n3                       0.008      -19005          -3039          -9833.000   \n4                       0.029      -19932          -3038          -4311.000   \n\n   DAYS_ID_PUBLISH  OWN_CAR_AGE  FLAG_MOBIL  FLAG_EMP_PHONE  FLAG_WORK_PHONE  \\\n0            -2120          NaN           1               1                0   \n1             -291          NaN           1               1                0   \n2            -2531       26.000           1               1                1   \n3            -2437          NaN           1               1                0   \n4            -3458          NaN           1               1                0   \n\n   FLAG_CONT_MOBILE  FLAG_PHONE  FLAG_EMAIL OCCUPATION_TYPE  CNT_FAM_MEMBERS  \\\n0                 1           1           0        Laborers            1.000   \n1                 1           1           0      Core staff            2.000   \n2                 1           1           0        Laborers            1.000   \n3                 1           0           0        Laborers            2.000   \n4                 1           0           0      Core staff            1.000   \n\n   REGION_RATING_CLIENT  REGION_RATING_CLIENT_W_CITY  \\\n0                     2                            2   \n1                     1                            1   \n2                     2                            2   \n3                     2                            2   \n4                     2                            2   \n\n  WEEKDAY_APPR_PROCESS_START  HOUR_APPR_PROCESS_START  \\\n0                  WEDNESDAY                       10   \n1                     MONDAY                       11   \n2                     MONDAY                        9   \n3                  WEDNESDAY                       17   \n4                   THURSDAY                       11   \n\n   REG_REGION_NOT_LIVE_REGION  REG_REGION_NOT_WORK_REGION  \\\n0                           0                           0   \n1                           0                           0   \n2                           0                           0   \n3                           0                           0   \n4                           0                           0   \n\n   LIVE_REGION_NOT_WORK_REGION  REG_CITY_NOT_LIVE_CITY  \\\n0                            0                       0   \n1                            0                       0   \n2                            0                       0   \n3                            0                       0   \n4                            0                       0   \n\n   REG_CITY_NOT_WORK_CITY  LIVE_CITY_NOT_WORK_CITY       ORGANIZATION_TYPE  \\\n0                       0                        0  Business Entity Type 3   \n1                       0                        0                  School   \n2                       0                        0              Government   \n3                       0                        0  Business Entity Type 3   \n4                       1                        1                Religion   \n\n   EXT_SOURCE_1  EXT_SOURCE_2  EXT_SOURCE_3  APARTMENTS_AVG  BASEMENTAREA_AVG  \\\n0         0.083         0.263         0.139           0.025             0.037   \n1         0.311         0.622           NaN           0.096             0.053   \n2           NaN         0.556         0.730             NaN               NaN   \n3           NaN         0.650           NaN             NaN               NaN   \n4           NaN         0.323           NaN             NaN               NaN   \n\n   YEARS_BEGINEXPLUATATION_AVG  YEARS_BUILD_AVG  COMMONAREA_AVG  \\\n0                        0.972            0.619           0.014   \n1                        0.985            0.796           0.060   \n2                          NaN              NaN             NaN   \n3                          NaN              NaN             NaN   \n4                          NaN              NaN             NaN   \n\n   ELEVATORS_AVG  ENTRANCES_AVG  FLOORSMAX_AVG  FLOORSMIN_AVG  LANDAREA_AVG  \\\n0          0.000          0.069          0.083          0.125         0.037   \n1          0.080          0.035          0.292          0.333         0.013   \n2            NaN            NaN            NaN            NaN           NaN   \n3            NaN            NaN            NaN            NaN           NaN   \n4            NaN            NaN            NaN            NaN           NaN   \n\n   LIVINGAPARTMENTS_AVG  LIVINGAREA_AVG  NONLIVINGAPARTMENTS_AVG  \\\n0                 0.020           0.019                    0.000   \n1                 0.077           0.055                    0.004   \n2                   NaN             NaN                      NaN   \n3                   NaN             NaN                      NaN   \n4                   NaN             NaN                      NaN   \n\n   NONLIVINGAREA_AVG  APARTMENTS_MODE  BASEMENTAREA_MODE  \\\n0              0.000            0.025              0.038   \n1              0.010            0.092              0.054   \n2                NaN              NaN                NaN   \n3                NaN              NaN                NaN   \n4                NaN              NaN                NaN   \n\n   YEARS_BEGINEXPLUATATION_MODE  YEARS_BUILD_MODE  COMMONAREA_MODE  \\\n0                         0.972             0.634            0.014   \n1                         0.985             0.804            0.050   \n2                           NaN               NaN              NaN   \n3                           NaN               NaN              NaN   \n4                           NaN               NaN              NaN   \n\n   ELEVATORS_MODE  ENTRANCES_MODE  FLOORSMAX_MODE  FLOORSMIN_MODE  \\\n0           0.000           0.069           0.083           0.125   \n1           0.081           0.035           0.292           0.333   \n2             NaN             NaN             NaN             NaN   \n3             NaN             NaN             NaN             NaN   \n4             NaN             NaN             NaN             NaN   \n\n   LANDAREA_MODE  LIVINGAPARTMENTS_MODE  LIVINGAREA_MODE  \\\n0          0.038                  0.022            0.020   \n1          0.013                  0.079            0.055   \n2            NaN                    NaN              NaN   \n3            NaN                    NaN              NaN   \n4            NaN                    NaN              NaN   \n\n   NONLIVINGAPARTMENTS_MODE  NONLIVINGAREA_MODE  APARTMENTS_MEDI  \\\n0                     0.000               0.000            0.025   \n1                     0.000               0.000            0.097   \n2                       NaN                 NaN              NaN   \n3                       NaN                 NaN              NaN   \n4                       NaN                 NaN              NaN   \n\n   BASEMENTAREA_MEDI  YEARS_BEGINEXPLUATATION_MEDI  YEARS_BUILD_MEDI  \\\n0              0.037                         0.972             0.624   \n1              0.053                         0.985             0.799   \n2                NaN                           NaN               NaN   \n3                NaN                           NaN               NaN   \n4                NaN                           NaN               NaN   \n\n   COMMONAREA_MEDI  ELEVATORS_MEDI  ENTRANCES_MEDI  FLOORSMAX_MEDI  \\\n0            0.014           0.000           0.069           0.083   \n1            0.061           0.080           0.035           0.292   \n2              NaN             NaN             NaN             NaN   \n3              NaN             NaN             NaN             NaN   \n4              NaN             NaN             NaN             NaN   \n\n   FLOORSMIN_MEDI  LANDAREA_MEDI  LIVINGAPARTMENTS_MEDI  LIVINGAREA_MEDI  \\\n0           0.125          0.037                  0.021            0.019   \n1           0.333          0.013                  0.079            0.056   \n2             NaN            NaN                    NaN              NaN   \n3             NaN            NaN                    NaN              NaN   \n4             NaN            NaN                    NaN              NaN   \n\n   NONLIVINGAPARTMENTS_MEDI  NONLIVINGAREA_MEDI FONDKAPREMONT_MODE  \\\n0                     0.000               0.000   reg oper account   \n1                     0.004               0.010   reg oper account   \n2                       NaN                 NaN                NaN   \n3                       NaN                 NaN                NaN   \n4                       NaN                 NaN                NaN   \n\n   HOUSETYPE_MODE  TOTALAREA_MODE WALLSMATERIAL_MODE EMERGENCYSTATE_MODE  \\\n0  block of flats           0.015       Stone, brick                  No   \n1  block of flats           0.071              Block                  No   \n2             NaN             NaN                NaN                 NaN   \n3             NaN             NaN                NaN                 NaN   \n4             NaN             NaN                NaN                 NaN   \n\n   OBS_30_CNT_SOCIAL_CIRCLE  DEF_30_CNT_SOCIAL_CIRCLE  \\\n0                     2.000                     2.000   \n1                     1.000                     0.000   \n2                     0.000                     0.000   \n3                     2.000                     0.000   \n4                     0.000                     0.000   \n\n   OBS_60_CNT_SOCIAL_CIRCLE  DEF_60_CNT_SOCIAL_CIRCLE  DAYS_LAST_PHONE_CHANGE  \\\n0                     2.000                     2.000               -1134.000   \n1                     1.000                     0.000                -828.000   \n2                     0.000                     0.000                -815.000   \n3                     2.000                     0.000                -617.000   \n4                     0.000                     0.000               -1106.000   \n\n   FLAG_DOCUMENT_2  FLAG_DOCUMENT_3  FLAG_DOCUMENT_4  FLAG_DOCUMENT_5  \\\n0                0                1                0                0   \n1                0                1                0                0   \n2                0                0                0                0   \n3                0                1                0                0   \n4                0                0                0                0   \n\n   FLAG_DOCUMENT_6  FLAG_DOCUMENT_7  FLAG_DOCUMENT_8  FLAG_DOCUMENT_9  \\\n0                0                0                0                0   \n1                0                0                0                0   \n2                0                0                0                0   \n3                0                0                0                0   \n4                0                0                1                0   \n\n   FLAG_DOCUMENT_10  FLAG_DOCUMENT_11  FLAG_DOCUMENT_12  FLAG_DOCUMENT_13  \\\n0                 0                 0                 0                 0   \n1                 0                 0                 0                 0   \n2                 0                 0                 0                 0   \n3                 0                 0                 0                 0   \n4                 0                 0                 0                 0   \n\n   FLAG_DOCUMENT_14  FLAG_DOCUMENT_15  FLAG_DOCUMENT_16  FLAG_DOCUMENT_17  \\\n0                 0                 0                 0                 0   \n1                 0                 0                 0                 0   \n2                 0                 0                 0                 0   \n3                 0                 0                 0                 0   \n4                 0                 0                 0                 0   \n\n   FLAG_DOCUMENT_18  FLAG_DOCUMENT_19  FLAG_DOCUMENT_20  FLAG_DOCUMENT_21  \\\n0                 0                 0                 0                 0   \n1                 0                 0                 0                 0   \n2                 0                 0                 0                 0   \n3                 0                 0                 0                 0   \n4                 0                 0                 0                 0   \n\n   AMT_REQ_CREDIT_BUREAU_HOUR  AMT_REQ_CREDIT_BUREAU_DAY  \\\n0                       0.000                      0.000   \n1                       0.000                      0.000   \n2                       0.000                      0.000   \n3                         NaN                        NaN   \n4                       0.000                      0.000   \n\n   AMT_REQ_CREDIT_BUREAU_WEEK  AMT_REQ_CREDIT_BUREAU_MON  \\\n0                       0.000                      0.000   \n1                       0.000                      0.000   \n2                       0.000                      0.000   \n3                         NaN                        NaN   \n4                       0.000                      0.000   \n\n   AMT_REQ_CREDIT_BUREAU_QRT  AMT_REQ_CREDIT_BUREAU_YEAR  \n0                      0.000                       1.000  \n1                      0.000                       0.000  \n2                      0.000                       0.000  \n3                        NaN                         NaN  \n4                      0.000                       0.000  ",
      "text/html": "<div>\n<style scoped>\n    .dataframe tbody tr th:only-of-type {\n        vertical-align: middle;\n    }\n\n    .dataframe tbody tr th {\n        vertical-align: top;\n    }\n\n    .dataframe thead th {\n        text-align: right;\n    }\n</style>\n<table border=\"1\" class=\"dataframe\">\n  <thead>\n    <tr style=\"text-align: right;\">\n      <th></th>\n      <th>SK_ID_CURR</th>\n      <th>TARGET</th>\n      <th>NAME_CONTRACT_TYPE</th>\n      <th>CODE_GENDER</th>\n      <th>FLAG_OWN_CAR</th>\n      <th>FLAG_OWN_REALTY</th>\n      <th>CNT_CHILDREN</th>\n      <th>AMT_INCOME_TOTAL</th>\n      <th>AMT_CREDIT</th>\n      <th>AMT_ANNUITY</th>\n      <th>AMT_GOODS_PRICE</th>\n      <th>NAME_TYPE_SUITE</th>\n      <th>NAME_INCOME_TYPE</th>\n      <th>NAME_EDUCATION_TYPE</th>\n      <th>NAME_FAMILY_STATUS</th>\n      <th>NAME_HOUSING_TYPE</th>\n      <th>REGION_POPULATION_RELATIVE</th>\n      <th>DAYS_BIRTH</th>\n      <th>DAYS_EMPLOYED</th>\n      <th>DAYS_REGISTRATION</th>\n      <th>DAYS_ID_PUBLISH</th>\n      <th>OWN_CAR_AGE</th>\n      <th>FLAG_MOBIL</th>\n      <th>FLAG_EMP_PHONE</th>\n      <th>FLAG_WORK_PHONE</th>\n      <th>FLAG_CONT_MOBILE</th>\n      <th>FLAG_PHONE</th>\n      <th>FLAG_EMAIL</th>\n      <th>OCCUPATION_TYPE</th>\n      <th>CNT_FAM_MEMBERS</th>\n      <th>REGION_RATING_CLIENT</th>\n      <th>REGION_RATING_CLIENT_W_CITY</th>\n      <th>WEEKDAY_APPR_PROCESS_START</th>\n      <th>HOUR_APPR_PROCESS_START</th>\n      <th>REG_REGION_NOT_LIVE_REGION</th>\n      <th>REG_REGION_NOT_WORK_REGION</th>\n      <th>LIVE_REGION_NOT_WORK_REGION</th>\n      <th>REG_CITY_NOT_LIVE_CITY</th>\n      <th>REG_CITY_NOT_WORK_CITY</th>\n      <th>LIVE_CITY_NOT_WORK_CITY</th>\n      <th>ORGANIZATION_TYPE</th>\n      <th>EXT_SOURCE_1</th>\n      <th>EXT_SOURCE_2</th>\n      <th>EXT_SOURCE_3</th>\n      <th>APARTMENTS_AVG</th>\n      <th>BASEMENTAREA_AVG</th>\n      <th>YEARS_BEGINEXPLUATATION_AVG</th>\n      <th>YEARS_BUILD_AVG</th>\n      <th>COMMONAREA_AVG</th>\n      <th>ELEVATORS_AVG</th>\n      <th>ENTRANCES_AVG</th>\n      <th>FLOORSMAX_AVG</th>\n      <th>FLOORSMIN_AVG</th>\n      <th>LANDAREA_AVG</th>\n      <th>LIVINGAPARTMENTS_AVG</th>\n      <th>LIVINGAREA_AVG</th>\n      <th>NONLIVINGAPARTMENTS_AVG</th>\n      <th>NONLIVINGAREA_AVG</th>\n      <th>APARTMENTS_MODE</th>\n      <th>BASEMENTAREA_MODE</th>\n      <th>YEARS_BEGINEXPLUATATION_MODE</th>\n      <th>YEARS_BUILD_MODE</th>\n      <th>COMMONAREA_MODE</th>\n      <th>ELEVATORS_MODE</th>\n      <th>ENTRANCES_MODE</th>\n      <th>FLOORSMAX_MODE</th>\n      <th>FLOORSMIN_MODE</th>\n      <th>LANDAREA_MODE</th>\n      <th>LIVINGAPARTMENTS_MODE</th>\n      <th>LIVINGAREA_MODE</th>\n      <th>NONLIVINGAPARTMENTS_MODE</th>\n      <th>NONLIVINGAREA_MODE</th>\n      <th>APARTMENTS_MEDI</th>\n      <th>BASEMENTAREA_MEDI</th>\n      <th>YEARS_BEGINEXPLUATATION_MEDI</th>\n      <th>YEARS_BUILD_MEDI</th>\n      <th>COMMONAREA_MEDI</th>\n      <th>ELEVATORS_MEDI</th>\n      <th>ENTRANCES_MEDI</th>\n      <th>FLOORSMAX_MEDI</th>\n      <th>FLOORSMIN_MEDI</th>\n      <th>LANDAREA_MEDI</th>\n      <th>LIVINGAPARTMENTS_MEDI</th>\n      <th>LIVINGAREA_MEDI</th>\n      <th>NONLIVINGAPARTMENTS_MEDI</th>\n      <th>NONLIVINGAREA_MEDI</th>\n      <th>FONDKAPREMONT_MODE</th>\n      <th>HOUSETYPE_MODE</th>\n      <th>TOTALAREA_MODE</th>\n      <th>WALLSMATERIAL_MODE</th>\n      <th>EMERGENCYSTATE_MODE</th>\n      <th>OBS_30_CNT_SOCIAL_CIRCLE</th>\n      <th>DEF_30_CNT_SOCIAL_CIRCLE</th>\n      <th>OBS_60_CNT_SOCIAL_CIRCLE</th>\n      <th>DEF_60_CNT_SOCIAL_CIRCLE</th>\n      <th>DAYS_LAST_PHONE_CHANGE</th>\n      <th>FLAG_DOCUMENT_2</th>\n      <th>FLAG_DOCUMENT_3</th>\n      <th>FLAG_DOCUMENT_4</th>\n      <th>FLAG_DOCUMENT_5</th>\n      <th>FLAG_DOCUMENT_6</th>\n      <th>FLAG_DOCUMENT_7</th>\n      <th>FLAG_DOCUMENT_8</th>\n      <th>FLAG_DOCUMENT_9</th>\n      <th>FLAG_DOCUMENT_10</th>\n      <th>FLAG_DOCUMENT_11</th>\n      <th>FLAG_DOCUMENT_12</th>\n      <th>FLAG_DOCUMENT_13</th>\n      <th>FLAG_DOCUMENT_14</th>\n      <th>FLAG_DOCUMENT_15</th>\n      <th>FLAG_DOCUMENT_16</th>\n      <th>FLAG_DOCUMENT_17</th>\n      <th>FLAG_DOCUMENT_18</th>\n      <th>FLAG_DOCUMENT_19</th>\n      <th>FLAG_DOCUMENT_20</th>\n      <th>FLAG_DOCUMENT_21</th>\n      <th>AMT_REQ_CREDIT_BUREAU_HOUR</th>\n      <th>AMT_REQ_CREDIT_BUREAU_DAY</th>\n      <th>AMT_REQ_CREDIT_BUREAU_WEEK</th>\n      <th>AMT_REQ_CREDIT_BUREAU_MON</th>\n      <th>AMT_REQ_CREDIT_BUREAU_QRT</th>\n      <th>AMT_REQ_CREDIT_BUREAU_YEAR</th>\n    </tr>\n  </thead>\n  <tbody>\n    <tr>\n      <th>0</th>\n      <td>100002</td>\n      <td>1</td>\n      <td>Cash loans</td>\n      <td>M</td>\n      <td>N</td>\n      <td>Y</td>\n      <td>0</td>\n      <td>202500.000</td>\n      <td>406597.500</td>\n      <td>24700.500</td>\n      <td>351000.000</td>\n      <td>Unaccompanied</td>\n      <td>Working</td>\n      <td>Secondary / secondary special</td>\n      <td>Single / not married</td>\n      <td>House / apartment</td>\n      <td>0.019</td>\n      <td>-9461</td>\n      <td>-637</td>\n      <td>-3648.000</td>\n      <td>-2120</td>\n      <td>NaN</td>\n      <td>1</td>\n      <td>1</td>\n      <td>0</td>\n      <td>1</td>\n      <td>1</td>\n      <td>0</td>\n      <td>Laborers</td>\n      <td>1.000</td>\n      <td>2</td>\n      <td>2</td>\n      <td>WEDNESDAY</td>\n      <td>10</td>\n      <td>0</td>\n      <td>0</td>\n      <td>0</td>\n      <td>0</td>\n      <td>0</td>\n      <td>0</td>\n      <td>Business Entity Type 3</td>\n      <td>0.083</td>\n      <td>0.263</td>\n      <td>0.139</td>\n      <td>0.025</td>\n      <td>0.037</td>\n      <td>0.972</td>\n      <td>0.619</td>\n      <td>0.014</td>\n      <td>0.000</td>\n      <td>0.069</td>\n      <td>0.083</td>\n      <td>0.125</td>\n      <td>0.037</td>\n      <td>0.020</td>\n      <td>0.019</td>\n      <td>0.000</td>\n      <td>0.000</td>\n      <td>0.025</td>\n      <td>0.038</td>\n      <td>0.972</td>\n      <td>0.634</td>\n      <td>0.014</td>\n      <td>0.000</td>\n      <td>0.069</td>\n      <td>0.083</td>\n      <td>0.125</td>\n      <td>0.038</td>\n      <td>0.022</td>\n      <td>0.020</td>\n      <td>0.000</td>\n      <td>0.000</td>\n      <td>0.025</td>\n      <td>0.037</td>\n      <td>0.972</td>\n      <td>0.624</td>\n      <td>0.014</td>\n      <td>0.000</td>\n      <td>0.069</td>\n      <td>0.083</td>\n      <td>0.125</td>\n      <td>0.037</td>\n      <td>0.021</td>\n      <td>0.019</td>\n      <td>0.000</td>\n      <td>0.000</td>\n      <td>reg oper account</td>\n      <td>block of flats</td>\n      <td>0.015</td>\n      <td>Stone, brick</td>\n      <td>No</td>\n      <td>2.000</td>\n      <td>2.000</td>\n      <td>2.000</td>\n      <td>2.000</td>\n      <td>-1134.000</td>\n      <td>0</td>\n      <td>1</td>\n      <td>0</td>\n      <td>0</td>\n      <td>0</td>\n      <td>0</td>\n      <td>0</td>\n      <td>0</td>\n      <td>0</td>\n      <td>0</td>\n      <td>0</td>\n      <td>0</td>\n      <td>0</td>\n      <td>0</td>\n      <td>0</td>\n      <td>0</td>\n      <td>0</td>\n      <td>0</td>\n      <td>0</td>\n      <td>0</td>\n      <td>0.000</td>\n      <td>0.000</td>\n      <td>0.000</td>\n      <td>0.000</td>\n      <td>0.000</td>\n      <td>1.000</td>\n    </tr>\n    <tr>\n      <th>1</th>\n      <td>100003</td>\n      <td>0</td>\n      <td>Cash loans</td>\n      <td>F</td>\n      <td>N</td>\n      <td>N</td>\n      <td>0</td>\n      <td>270000.000</td>\n      <td>1293502.500</td>\n      <td>35698.500</td>\n      <td>1129500.000</td>\n      <td>Family</td>\n      <td>State servant</td>\n      <td>Higher education</td>\n      <td>Married</td>\n      <td>House / apartment</td>\n      <td>0.004</td>\n      <td>-16765</td>\n      <td>-1188</td>\n      <td>-1186.000</td>\n      <td>-291</td>\n      <td>NaN</td>\n      <td>1</td>\n      <td>1</td>\n      <td>0</td>\n      <td>1</td>\n      <td>1</td>\n      <td>0</td>\n      <td>Core staff</td>\n      <td>2.000</td>\n      <td>1</td>\n      <td>1</td>\n      <td>MONDAY</td>\n      <td>11</td>\n      <td>0</td>\n      <td>0</td>\n      <td>0</td>\n      <td>0</td>\n      <td>0</td>\n      <td>0</td>\n      <td>School</td>\n      <td>0.311</td>\n      <td>0.622</td>\n      <td>NaN</td>\n      <td>0.096</td>\n      <td>0.053</td>\n      <td>0.985</td>\n      <td>0.796</td>\n      <td>0.060</td>\n      <td>0.080</td>\n      <td>0.035</td>\n      <td>0.292</td>\n      <td>0.333</td>\n      <td>0.013</td>\n      <td>0.077</td>\n      <td>0.055</td>\n      <td>0.004</td>\n      <td>0.010</td>\n      <td>0.092</td>\n      <td>0.054</td>\n      <td>0.985</td>\n      <td>0.804</td>\n      <td>0.050</td>\n      <td>0.081</td>\n      <td>0.035</td>\n      <td>0.292</td>\n      <td>0.333</td>\n      <td>0.013</td>\n      <td>0.079</td>\n      <td>0.055</td>\n      <td>0.000</td>\n      <td>0.000</td>\n      <td>0.097</td>\n      <td>0.053</td>\n      <td>0.985</td>\n      <td>0.799</td>\n      <td>0.061</td>\n      <td>0.080</td>\n      <td>0.035</td>\n      <td>0.292</td>\n      <td>0.333</td>\n      <td>0.013</td>\n      <td>0.079</td>\n      <td>0.056</td>\n      <td>0.004</td>\n      <td>0.010</td>\n      <td>reg oper account</td>\n      <td>block of flats</td>\n      <td>0.071</td>\n      <td>Block</td>\n      <td>No</td>\n      <td>1.000</td>\n      <td>0.000</td>\n      <td>1.000</td>\n      <td>0.000</td>\n      <td>-828.000</td>\n      <td>0</td>\n      <td>1</td>\n      <td>0</td>\n      <td>0</td>\n      <td>0</td>\n      <td>0</td>\n      <td>0</td>\n      <td>0</td>\n      <td>0</td>\n      <td>0</td>\n      <td>0</td>\n      <td>0</td>\n      <td>0</td>\n      <td>0</td>\n      <td>0</td>\n      <td>0</td>\n      <td>0</td>\n      <td>0</td>\n      <td>0</td>\n      <td>0</td>\n      <td>0.000</td>\n      <td>0.000</td>\n      <td>0.000</td>\n      <td>0.000</td>\n      <td>0.000</td>\n      <td>0.000</td>\n    </tr>\n    <tr>\n      <th>2</th>\n      <td>100004</td>\n      <td>0</td>\n      <td>Revolving loans</td>\n      <td>M</td>\n      <td>Y</td>\n      <td>Y</td>\n      <td>0</td>\n      <td>67500.000</td>\n      <td>135000.000</td>\n      <td>6750.000</td>\n      <td>135000.000</td>\n      <td>Unaccompanied</td>\n      <td>Working</td>\n      <td>Secondary / secondary special</td>\n      <td>Single / not married</td>\n      <td>House / apartment</td>\n      <td>0.010</td>\n      <td>-19046</td>\n      <td>-225</td>\n      <td>-4260.000</td>\n      <td>-2531</td>\n      <td>26.000</td>\n      <td>1</td>\n      <td>1</td>\n      <td>1</td>\n      <td>1</td>\n      <td>1</td>\n      <td>0</td>\n      <td>Laborers</td>\n      <td>1.000</td>\n      <td>2</td>\n      <td>2</td>\n      <td>MONDAY</td>\n      <td>9</td>\n      <td>0</td>\n      <td>0</td>\n      <td>0</td>\n      <td>0</td>\n      <td>0</td>\n      <td>0</td>\n      <td>Government</td>\n      <td>NaN</td>\n      <td>0.556</td>\n      <td>0.730</td>\n      <td>NaN</td>\n      <td>NaN</td>\n      <td>NaN</td>\n      <td>NaN</td>\n      <td>NaN</td>\n      <td>NaN</td>\n      <td>NaN</td>\n      <td>NaN</td>\n      <td>NaN</td>\n      <td>NaN</td>\n      <td>NaN</td>\n      <td>NaN</td>\n      <td>NaN</td>\n      <td>NaN</td>\n      <td>NaN</td>\n      <td>NaN</td>\n      <td>NaN</td>\n      <td>NaN</td>\n      <td>NaN</td>\n      <td>NaN</td>\n      <td>NaN</td>\n      <td>NaN</td>\n      <td>NaN</td>\n      <td>NaN</td>\n      <td>NaN</td>\n      <td>NaN</td>\n      <td>NaN</td>\n      <td>NaN</td>\n      <td>NaN</td>\n      <td>NaN</td>\n      <td>NaN</td>\n      <td>NaN</td>\n      <td>NaN</td>\n      <td>NaN</td>\n      <td>NaN</td>\n      <td>NaN</td>\n      <td>NaN</td>\n      <td>NaN</td>\n      <td>NaN</td>\n      <td>NaN</td>\n      <td>NaN</td>\n      <td>NaN</td>\n      <td>NaN</td>\n      <td>NaN</td>\n      <td>NaN</td>\n      <td>NaN</td>\n      <td>NaN</td>\n      <td>0.000</td>\n      <td>0.000</td>\n      <td>0.000</td>\n      <td>0.000</td>\n      <td>-815.000</td>\n      <td>0</td>\n      <td>0</td>\n      <td>0</td>\n      <td>0</td>\n      <td>0</td>\n      <td>0</td>\n      <td>0</td>\n      <td>0</td>\n      <td>0</td>\n      <td>0</td>\n      <td>0</td>\n      <td>0</td>\n      <td>0</td>\n      <td>0</td>\n      <td>0</td>\n      <td>0</td>\n      <td>0</td>\n      <td>0</td>\n      <td>0</td>\n      <td>0</td>\n      <td>0.000</td>\n      <td>0.000</td>\n      <td>0.000</td>\n      <td>0.000</td>\n      <td>0.000</td>\n      <td>0.000</td>\n    </tr>\n    <tr>\n      <th>3</th>\n      <td>100006</td>\n      <td>0</td>\n      <td>Cash loans</td>\n      <td>F</td>\n      <td>N</td>\n      <td>Y</td>\n      <td>0</td>\n      <td>135000.000</td>\n      <td>312682.500</td>\n      <td>29686.500</td>\n      <td>297000.000</td>\n      <td>Unaccompanied</td>\n      <td>Working</td>\n      <td>Secondary / secondary special</td>\n      <td>Civil marriage</td>\n      <td>House / apartment</td>\n      <td>0.008</td>\n      <td>-19005</td>\n      <td>-3039</td>\n      <td>-9833.000</td>\n      <td>-2437</td>\n      <td>NaN</td>\n      <td>1</td>\n      <td>1</td>\n      <td>0</td>\n      <td>1</td>\n      <td>0</td>\n      <td>0</td>\n      <td>Laborers</td>\n      <td>2.000</td>\n      <td>2</td>\n      <td>2</td>\n      <td>WEDNESDAY</td>\n      <td>17</td>\n      <td>0</td>\n      <td>0</td>\n      <td>0</td>\n      <td>0</td>\n      <td>0</td>\n      <td>0</td>\n      <td>Business Entity Type 3</td>\n      <td>NaN</td>\n      <td>0.650</td>\n      <td>NaN</td>\n      <td>NaN</td>\n      <td>NaN</td>\n      <td>NaN</td>\n      <td>NaN</td>\n      <td>NaN</td>\n      <td>NaN</td>\n      <td>NaN</td>\n      <td>NaN</td>\n      <td>NaN</td>\n      <td>NaN</td>\n      <td>NaN</td>\n      <td>NaN</td>\n      <td>NaN</td>\n      <td>NaN</td>\n      <td>NaN</td>\n      <td>NaN</td>\n      <td>NaN</td>\n      <td>NaN</td>\n      <td>NaN</td>\n      <td>NaN</td>\n      <td>NaN</td>\n      <td>NaN</td>\n      <td>NaN</td>\n      <td>NaN</td>\n      <td>NaN</td>\n      <td>NaN</td>\n      <td>NaN</td>\n      <td>NaN</td>\n      <td>NaN</td>\n      <td>NaN</td>\n      <td>NaN</td>\n      <td>NaN</td>\n      <td>NaN</td>\n      <td>NaN</td>\n      <td>NaN</td>\n      <td>NaN</td>\n      <td>NaN</td>\n      <td>NaN</td>\n      <td>NaN</td>\n      <td>NaN</td>\n      <td>NaN</td>\n      <td>NaN</td>\n      <td>NaN</td>\n      <td>NaN</td>\n      <td>NaN</td>\n      <td>NaN</td>\n      <td>NaN</td>\n      <td>2.000</td>\n      <td>0.000</td>\n      <td>2.000</td>\n      <td>0.000</td>\n      <td>-617.000</td>\n      <td>0</td>\n      <td>1</td>\n      <td>0</td>\n      <td>0</td>\n      <td>0</td>\n      <td>0</td>\n      <td>0</td>\n      <td>0</td>\n      <td>0</td>\n      <td>0</td>\n      <td>0</td>\n      <td>0</td>\n      <td>0</td>\n      <td>0</td>\n      <td>0</td>\n      <td>0</td>\n      <td>0</td>\n      <td>0</td>\n      <td>0</td>\n      <td>0</td>\n      <td>NaN</td>\n      <td>NaN</td>\n      <td>NaN</td>\n      <td>NaN</td>\n      <td>NaN</td>\n      <td>NaN</td>\n    </tr>\n    <tr>\n      <th>4</th>\n      <td>100007</td>\n      <td>0</td>\n      <td>Cash loans</td>\n      <td>M</td>\n      <td>N</td>\n      <td>Y</td>\n      <td>0</td>\n      <td>121500.000</td>\n      <td>513000.000</td>\n      <td>21865.500</td>\n      <td>513000.000</td>\n      <td>Unaccompanied</td>\n      <td>Working</td>\n      <td>Secondary / secondary special</td>\n      <td>Single / not married</td>\n      <td>House / apartment</td>\n      <td>0.029</td>\n      <td>-19932</td>\n      <td>-3038</td>\n      <td>-4311.000</td>\n      <td>-3458</td>\n      <td>NaN</td>\n      <td>1</td>\n      <td>1</td>\n      <td>0</td>\n      <td>1</td>\n      <td>0</td>\n      <td>0</td>\n      <td>Core staff</td>\n      <td>1.000</td>\n      <td>2</td>\n      <td>2</td>\n      <td>THURSDAY</td>\n      <td>11</td>\n      <td>0</td>\n      <td>0</td>\n      <td>0</td>\n      <td>0</td>\n      <td>1</td>\n      <td>1</td>\n      <td>Religion</td>\n      <td>NaN</td>\n      <td>0.323</td>\n      <td>NaN</td>\n      <td>NaN</td>\n      <td>NaN</td>\n      <td>NaN</td>\n      <td>NaN</td>\n      <td>NaN</td>\n      <td>NaN</td>\n      <td>NaN</td>\n      <td>NaN</td>\n      <td>NaN</td>\n      <td>NaN</td>\n      <td>NaN</td>\n      <td>NaN</td>\n      <td>NaN</td>\n      <td>NaN</td>\n      <td>NaN</td>\n      <td>NaN</td>\n      <td>NaN</td>\n      <td>NaN</td>\n      <td>NaN</td>\n      <td>NaN</td>\n      <td>NaN</td>\n      <td>NaN</td>\n      <td>NaN</td>\n      <td>NaN</td>\n      <td>NaN</td>\n      <td>NaN</td>\n      <td>NaN</td>\n      <td>NaN</td>\n      <td>NaN</td>\n      <td>NaN</td>\n      <td>NaN</td>\n      <td>NaN</td>\n      <td>NaN</td>\n      <td>NaN</td>\n      <td>NaN</td>\n      <td>NaN</td>\n      <td>NaN</td>\n      <td>NaN</td>\n      <td>NaN</td>\n      <td>NaN</td>\n      <td>NaN</td>\n      <td>NaN</td>\n      <td>NaN</td>\n      <td>NaN</td>\n      <td>NaN</td>\n      <td>NaN</td>\n      <td>NaN</td>\n      <td>0.000</td>\n      <td>0.000</td>\n      <td>0.000</td>\n      <td>0.000</td>\n      <td>-1106.000</td>\n      <td>0</td>\n      <td>0</td>\n      <td>0</td>\n      <td>0</td>\n      <td>0</td>\n      <td>0</td>\n      <td>1</td>\n      <td>0</td>\n      <td>0</td>\n      <td>0</td>\n      <td>0</td>\n      <td>0</td>\n      <td>0</td>\n      <td>0</td>\n      <td>0</td>\n      <td>0</td>\n      <td>0</td>\n      <td>0</td>\n      <td>0</td>\n      <td>0</td>\n      <td>0.000</td>\n      <td>0.000</td>\n      <td>0.000</td>\n      <td>0.000</td>\n      <td>0.000</td>\n      <td>0.000</td>\n    </tr>\n  </tbody>\n</table>\n</div>"
     },
     "execution_count": 3,
     "metadata": {},
     "output_type": "execute_result"
    }
   ],
   "source": [
    "def load_application_train():\n",
    "    data = pd.read_csv(\"datasets/application_train.csv\")\n",
    "    return data\n",
    "\n",
    "df = load_application_train()\n",
    "df.head()"
   ]
  },
  {
   "cell_type": "code",
   "execution_count": 4,
   "metadata": {
    "pycharm": {
     "name": "#%%\n"
    }
   },
   "outputs": [
    {
     "data": {
      "text/plain": "   PassengerId  Survived  Pclass  \\\n0            1         0       3   \n1            2         1       1   \n2            3         1       3   \n3            4         1       1   \n4            5         0       3   \n\n                                                Name     Sex    Age  SibSp  \\\n0                            Braund, Mr. Owen Harris    male 22.000      1   \n1  Cumings, Mrs. John Bradley (Florence Briggs Th...  female 38.000      1   \n2                             Heikkinen, Miss. Laina  female 26.000      0   \n3       Futrelle, Mrs. Jacques Heath (Lily May Peel)  female 35.000      1   \n4                           Allen, Mr. William Henry    male 35.000      0   \n\n   Parch            Ticket   Fare Cabin Embarked  \n0      0         A/5 21171  7.250   NaN        S  \n1      0          PC 17599 71.283   C85        C  \n2      0  STON/O2. 3101282  7.925   NaN        S  \n3      0            113803 53.100  C123        S  \n4      0            373450  8.050   NaN        S  ",
      "text/html": "<div>\n<style scoped>\n    .dataframe tbody tr th:only-of-type {\n        vertical-align: middle;\n    }\n\n    .dataframe tbody tr th {\n        vertical-align: top;\n    }\n\n    .dataframe thead th {\n        text-align: right;\n    }\n</style>\n<table border=\"1\" class=\"dataframe\">\n  <thead>\n    <tr style=\"text-align: right;\">\n      <th></th>\n      <th>PassengerId</th>\n      <th>Survived</th>\n      <th>Pclass</th>\n      <th>Name</th>\n      <th>Sex</th>\n      <th>Age</th>\n      <th>SibSp</th>\n      <th>Parch</th>\n      <th>Ticket</th>\n      <th>Fare</th>\n      <th>Cabin</th>\n      <th>Embarked</th>\n    </tr>\n  </thead>\n  <tbody>\n    <tr>\n      <th>0</th>\n      <td>1</td>\n      <td>0</td>\n      <td>3</td>\n      <td>Braund, Mr. Owen Harris</td>\n      <td>male</td>\n      <td>22.000</td>\n      <td>1</td>\n      <td>0</td>\n      <td>A/5 21171</td>\n      <td>7.250</td>\n      <td>NaN</td>\n      <td>S</td>\n    </tr>\n    <tr>\n      <th>1</th>\n      <td>2</td>\n      <td>1</td>\n      <td>1</td>\n      <td>Cumings, Mrs. John Bradley (Florence Briggs Th...</td>\n      <td>female</td>\n      <td>38.000</td>\n      <td>1</td>\n      <td>0</td>\n      <td>PC 17599</td>\n      <td>71.283</td>\n      <td>C85</td>\n      <td>C</td>\n    </tr>\n    <tr>\n      <th>2</th>\n      <td>3</td>\n      <td>1</td>\n      <td>3</td>\n      <td>Heikkinen, Miss. Laina</td>\n      <td>female</td>\n      <td>26.000</td>\n      <td>0</td>\n      <td>0</td>\n      <td>STON/O2. 3101282</td>\n      <td>7.925</td>\n      <td>NaN</td>\n      <td>S</td>\n    </tr>\n    <tr>\n      <th>3</th>\n      <td>4</td>\n      <td>1</td>\n      <td>1</td>\n      <td>Futrelle, Mrs. Jacques Heath (Lily May Peel)</td>\n      <td>female</td>\n      <td>35.000</td>\n      <td>1</td>\n      <td>0</td>\n      <td>113803</td>\n      <td>53.100</td>\n      <td>C123</td>\n      <td>S</td>\n    </tr>\n    <tr>\n      <th>4</th>\n      <td>5</td>\n      <td>0</td>\n      <td>3</td>\n      <td>Allen, Mr. William Henry</td>\n      <td>male</td>\n      <td>35.000</td>\n      <td>0</td>\n      <td>0</td>\n      <td>373450</td>\n      <td>8.050</td>\n      <td>NaN</td>\n      <td>S</td>\n    </tr>\n  </tbody>\n</table>\n</div>"
     },
     "execution_count": 4,
     "metadata": {},
     "output_type": "execute_result"
    }
   ],
   "source": [
    "def load():\n",
    "    data = pd.read_csv(\"datasets/titanic.csv\")\n",
    "    return data\n",
    "\n",
    "\n",
    "df = load()\n",
    "df.head()"
   ]
  },
  {
   "cell_type": "code",
   "execution_count": 5,
   "metadata": {
    "pycharm": {
     "name": "#%%\n"
    }
   },
   "outputs": [
    {
     "data": {
      "text/plain": "<Figure size 432x288 with 1 Axes>",
      "image/png": "[encoded data removed]"
     },
     "metadata": {},
     "output_type": "display_data"
    }
   ],
   "source": [
    "sns.boxplot(x=df[\"Age\"])\n",
    "plt.show()"
   ]
  },
  {
   "cell_type": "markdown",
   "metadata": {
    "pycharm": {
     "name": "#%% md\n"
    }
   },
   "source": [
    "### Aykırı Değerler Nasıl Yakalanır?"
   ]
  },
  {
   "cell_type": "code",
   "execution_count": 6,
   "metadata": {
    "pycharm": {
     "name": "#%%\n"
    }
   },
   "outputs": [
    {
     "name": "stdout",
     "output_type": "stream",
     "text": [
      "     PassengerId  Survived  Pclass                            Name   Sex  \\\n",
      "33            34         0       2           Wheadon, Mr. Edward H  male   \n",
      "54            55         0       1  Ostby, Mr. Engelhart Cornelius  male   \n",
      "96            97         0       1       Goldschmidt, Mr. George B  male   \n",
      "116          117         0       3            Connors, Mr. Patrick  male   \n",
      "280          281         0       3                Duane, Mr. Frank  male   \n",
      "\n",
      "       Age  SibSp  Parch      Ticket   Fare Cabin Embarked  \n",
      "33  66.000      0      0  C.A. 24579 10.500   NaN        S  \n",
      "54  65.000      0      1      113509 61.979   B30        C  \n",
      "96  71.000      0      0    PC 17754 34.654    A5        C  \n",
      "116 70.500      0      0      370369  7.750   NaN        Q  \n",
      "280 65.000      0      0      336439  7.750   NaN        Q  \n"
     ]
    }
   ],
   "source": [
    "# Çeyrekler Açıklığı hesaplanır\n",
    "q1 = df[\"Age\"].quantile(0.25) \n",
    "q3 = df[\"Age\"].quantile(0.75)\n",
    "iqr = q3 - q1\n",
    "# Üst aykırılık hesaplanır.\n",
    "up = q3 + 1.5 * iqr\n",
    "#Alt aykırılık hesaplanır.\n",
    "low = q1 - 1.5 * iqr\n",
    "print(df[(df[\"Age\"] < low) | (df[\"Age\"] > up)].head())"
   ]
  },
  {
   "cell_type": "code",
   "execution_count": 7,
   "metadata": {
    "pycharm": {
     "name": "#%%\n"
    }
   },
   "outputs": [
    {
     "name": "stdout",
     "output_type": "stream",
     "text": [
      "Int64Index([33, 54, 96, 116, 280, 456, 493, 630, 672, 745, 851], dtype='int64')\n"
     ]
    }
   ],
   "source": [
    "print(df[(df[\"Age\"] < low) | (df[\"Age\"] > up)].index)"
   ]
  },
  {
   "cell_type": "markdown",
   "metadata": {
    "collapsed": false,
    "pycharm": {
     "name": "#%% md\n"
    }
   },
   "source": [
    "#### Aykırı Değer Var Mı?"
   ]
  },
  {
   "cell_type": "code",
   "execution_count": 8,
   "metadata": {
    "collapsed": false,
    "pycharm": {
     "name": "#%%\n"
    }
   },
   "outputs": [
    {
     "name": "stdout",
     "output_type": "stream",
     "text": [
      "True\n",
      "False\n"
     ]
    }
   ],
   "source": [
    "print(df[(df[\"Age\"] < low) | (df[\"Age\"] > up)].any(axis=None))\n",
    "#.any(axis=None) => boolean değer döndürür\n",
    "print(df[(df[\"Age\"] < low)].any(axis=None))"
   ]
  },
  {
   "cell_type": "markdown",
   "metadata": {
    "collapsed": false,
    "pycharm": {
     "name": "#%% md\n"
    }
   },
   "source": [
    "### Aykırı Değer Kontrolü"
   ]
  },
  {
   "cell_type": "markdown",
   "metadata": {
    "collapsed": false,
    "pycharm": {
     "name": "#%% md\n"
    }
   },
   "source": [
    "1. Eşik değer belirledik.\n",
    "2. Aykırılara eriştik.\n",
    "3. Hızlıca aykırı değer var mı yok diye sorduk."
   ]
  },
  {
   "cell_type": "markdown",
   "metadata": {
    "collapsed": false,
    "pycharm": {
     "name": "#%% md\n"
    }
   },
   "source": [
    "## İşlemleri Fonksiyonlaştırma"
   ]
  },
  {
   "cell_type": "code",
   "execution_count": 9,
   "metadata": {
    "collapsed": false,
    "pycharm": {
     "name": "#%%\n"
    }
   },
   "outputs": [
    {
     "name": "stdout",
     "output_type": "stream",
     "text": [
      "(-6.6875, 64.8125)\n",
      "(-26.724, 65.6344)\n"
     ]
    }
   ],
   "source": [
    "def outlierThresholds(dataframe, colName, q1=0.25, q3=0.75):\n",
    "    quartile1 = dataframe[colName].quantile(q1)\n",
    "    quartile3 = dataframe[colName].quantile(q3)\n",
    "    interquantileRange = quartile3 - quartile1\n",
    "    upLimit = quartile3 + 1.5 * interquantileRange\n",
    "    lowLimit = quartile1 - 1.5 * interquantileRange\n",
    "    return lowLimit, upLimit\n",
    "\n",
    "print(outlierThresholds(df, \"Age\"))\n",
    "print(outlierThresholds(df, \"Fare\"))"
   ]
  },
  {
   "cell_type": "code",
   "execution_count": 10,
   "metadata": {
    "collapsed": false,
    "pycharm": {
     "name": "#%%\n"
    }
   },
   "outputs": [
    {
     "name": "stdout",
     "output_type": "stream",
     "text": [
      "     PassengerId  Survived  Pclass                                  Name  \\\n",
      "33            34         0       2                 Wheadon, Mr. Edward H   \n",
      "54            55         0       1        Ostby, Mr. Engelhart Cornelius   \n",
      "96            97         0       1             Goldschmidt, Mr. George B   \n",
      "116          117         0       3                  Connors, Mr. Patrick   \n",
      "280          281         0       3                      Duane, Mr. Frank   \n",
      "456          457         0       1             Millet, Mr. Francis Davis   \n",
      "493          494         0       1               Artagaveytia, Mr. Ramon   \n",
      "630          631         1       1  Barkworth, Mr. Algernon Henry Wilson   \n",
      "672          673         0       2           Mitchell, Mr. Henry Michael   \n",
      "745          746         0       1          Crosby, Capt. Edward Gifford   \n",
      "851          852         0       3                   Svensson, Mr. Johan   \n",
      "\n",
      "      Sex    Age  SibSp  Parch      Ticket   Fare Cabin Embarked  \n",
      "33   male 66.000      0      0  C.A. 24579 10.500   NaN        S  \n",
      "54   male 65.000      0      1      113509 61.979   B30        C  \n",
      "96   male 71.000      0      0    PC 17754 34.654    A5        C  \n",
      "116  male 70.500      0      0      370369  7.750   NaN        Q  \n",
      "280  male 65.000      0      0      336439  7.750   NaN        Q  \n",
      "456  male 65.000      0      0       13509 26.550   E38        S  \n",
      "493  male 71.000      0      0    PC 17609 49.504   NaN        C  \n",
      "630  male 80.000      0      0       27042 30.000   A23        S  \n",
      "672  male 70.000      0      0  C.A. 24580 10.500   NaN        S  \n",
      "745  male 70.000      1      1   WE/P 5735 71.000   B22        S  \n",
      "851  male 74.000      0      0      347060  7.775   NaN        S  \n"
     ]
    }
   ],
   "source": [
    "low, up = outlierThresholds(df, \"Age\")\n",
    "print(df[(df[\"Age\"] < low) | (df[\"Age\"] > up)])"
   ]
  },
  {
   "cell_type": "code",
   "execution_count": 11,
   "metadata": {
    "collapsed": false,
    "pycharm": {
     "name": "#%%\n"
    }
   },
   "outputs": [
    {
     "name": "stdout",
     "output_type": "stream",
     "text": [
      "Int64Index([33, 54, 96, 116, 280, 456, 493, 630, 672, 745, 851], dtype='int64')\n"
     ]
    }
   ],
   "source": [
    "print(df[(df[\"Age\"] < low) | (df[\"Age\"] > up)].index)"
   ]
  },
  {
   "cell_type": "code",
   "execution_count": 12,
   "metadata": {
    "collapsed": false,
    "pycharm": {
     "name": "#%%\n"
    }
   },
   "outputs": [
    {
     "name": "stdout",
     "output_type": "stream",
     "text": [
      "True\n",
      "True\n"
     ]
    }
   ],
   "source": [
    "def checkOutlier(dataframe, colName):\n",
    "    lowLimit, upLimit = outlierThresholds(dataframe, colName)\n",
    "    if dataframe[(dataframe[colName] > upLimit) | (dataframe[colName] < lowLimit)].any(axis=None):\n",
    "        return True\n",
    "    else:\n",
    "        return False\n",
    "\n",
    "print(checkOutlier(df, \"Age\"))\n",
    "print(checkOutlier(df, \"Fare\"))"
   ]
  },
  {
   "cell_type": "code",
   "execution_count": 13,
   "metadata": {
    "collapsed": false,
    "pycharm": {
     "name": "#%%\n"
    }
   },
   "outputs": [
    {
     "name": "stdout",
     "output_type": "stream",
     "text": [
      "Observations: 891\n",
      "Variables: 12\n",
      "catCols: 6\n",
      "numCols: 3\n",
      "catButCar: 3\n",
      "numButCat: 4\n",
      "Age True\n",
      "Fare True\n",
      "Observations: 307511\n",
      "Variables: 122\n",
      "catCols: 54\n",
      "numCols: 67\n",
      "catButCar: 1\n",
      "numButCat: 39\n",
      "CNT_CHILDREN True\n",
      "AMT_INCOME_TOTAL True\n",
      "AMT_CREDIT True\n",
      "AMT_ANNUITY True\n",
      "AMT_GOODS_PRICE True\n",
      "REGION_POPULATION_RELATIVE True\n",
      "DAYS_BIRTH False\n",
      "DAYS_EMPLOYED True\n",
      "DAYS_REGISTRATION True\n",
      "DAYS_ID_PUBLISH False\n",
      "OWN_CAR_AGE True\n",
      "CNT_FAM_MEMBERS True\n",
      "HOUR_APPR_PROCESS_START True\n",
      "EXT_SOURCE_1 False\n",
      "EXT_SOURCE_2 False\n",
      "EXT_SOURCE_3 False\n",
      "APARTMENTS_AVG True\n",
      "BASEMENTAREA_AVG True\n",
      "YEARS_BEGINEXPLUATATION_AVG True\n",
      "YEARS_BUILD_AVG True\n",
      "COMMONAREA_AVG True\n",
      "ELEVATORS_AVG True\n",
      "ENTRANCES_AVG True\n",
      "FLOORSMAX_AVG True\n",
      "FLOORSMIN_AVG True\n",
      "LANDAREA_AVG True\n",
      "LIVINGAPARTMENTS_AVG True\n",
      "LIVINGAREA_AVG True\n",
      "NONLIVINGAPARTMENTS_AVG True\n",
      "NONLIVINGAREA_AVG True\n",
      "APARTMENTS_MODE True\n",
      "BASEMENTAREA_MODE True\n",
      "YEARS_BEGINEXPLUATATION_MODE True\n",
      "YEARS_BUILD_MODE True\n",
      "COMMONAREA_MODE True\n",
      "ELEVATORS_MODE True\n",
      "ENTRANCES_MODE True\n",
      "FLOORSMAX_MODE True\n",
      "FLOORSMIN_MODE True\n",
      "LANDAREA_MODE True\n",
      "LIVINGAPARTMENTS_MODE True\n",
      "LIVINGAREA_MODE True\n",
      "NONLIVINGAPARTMENTS_MODE True\n",
      "NONLIVINGAREA_MODE True\n",
      "APARTMENTS_MEDI True\n",
      "BASEMENTAREA_MEDI True\n",
      "YEARS_BEGINEXPLUATATION_MEDI True\n",
      "YEARS_BUILD_MEDI True\n",
      "COMMONAREA_MEDI True\n",
      "ELEVATORS_MEDI True\n",
      "ENTRANCES_MEDI True\n",
      "FLOORSMAX_MEDI True\n",
      "FLOORSMIN_MEDI True\n",
      "LANDAREA_MEDI True\n",
      "LIVINGAPARTMENTS_MEDI True\n",
      "LIVINGAREA_MEDI True\n",
      "NONLIVINGAPARTMENTS_MEDI True\n",
      "NONLIVINGAREA_MEDI True\n",
      "TOTALAREA_MODE True\n",
      "OBS_30_CNT_SOCIAL_CIRCLE True\n",
      "DEF_30_CNT_SOCIAL_CIRCLE True\n",
      "OBS_60_CNT_SOCIAL_CIRCLE True\n",
      "DAYS_LAST_PHONE_CHANGE True\n",
      "AMT_REQ_CREDIT_BUREAU_MON True\n",
      "AMT_REQ_CREDIT_BUREAU_QRT True\n",
      "AMT_REQ_CREDIT_BUREAU_YEAR True\n"
     ]
    }
   ],
   "source": [
    "dff = load_application_train()\n",
    "dff.head()\n",
    "\n",
    "def grabColNames(dataframe, catTh=10, carTh=20):\n",
    "    \"\"\"\n",
    "\n",
    "    Veri setindeki kategorik, numerik ve kategorik fakat kardinal değişkenlerin isimlerini verir.\n",
    "    Not: Kategorik değişkenlerin içerisine numerik görünümlü kategorik değişkenler de dahildir.\n",
    "\n",
    "    Parameters\n",
    "    ------\n",
    "        dataframe: dataframe\n",
    "                Değişken isimleri alınmak istenilen dataframe\n",
    "        catTh: int, optional\n",
    "                numerik fakat kategorik olan değişkenler için sınıf eşik değeri\n",
    "        carTh: int, optinal\n",
    "                kategorik fakat kardinal değişkenler için sınıf eşik değeri\n",
    "\n",
    "    Returns\n",
    "    ------\n",
    "        catCols: list\n",
    "                Kategorik değişken listesi\n",
    "        numCols: list\n",
    "                Numerik değişken listesi\n",
    "        catButCar: list\n",
    "                Kategorik görünümlü kardinal değişken listesi\n",
    "\n",
    "    Examples\n",
    "    ------\n",
    "        import seaborn as sns\n",
    "        df = sns.load_dataset(\"iris\")\n",
    "        print(grabColNames(df))\n",
    "\n",
    "\n",
    "    Notes\n",
    "    ------\n",
    "        catCols + numCols + catButCar = toplam değişken sayısı\n",
    "        numButCat catCols'un içerisinde.\n",
    "        Return olan 3 liste toplamı toplam değişken sayısına eşittir: catCols + numCols + catButCar = değişken sayısı\n",
    "\n",
    "    \"\"\"\n",
    "\n",
    "    # catCols, catButCar\n",
    "    catCols = [col for col in dataframe.columns if dataframe[col].dtypes == \"O\"]\n",
    "    numButCat = [col for col in dataframe.columns if dataframe[col].nunique() < catTh and\n",
    "                   dataframe[col].dtypes != \"O\"]\n",
    "    catButCar = [col for col in dataframe.columns if dataframe[col].nunique() > carTh and\n",
    "                   dataframe[col].dtypes == \"O\"]\n",
    "    catCols = catCols + numButCat\n",
    "    catCols = [col for col in catCols if col not in catButCar]\n",
    "\n",
    "    # numCols\n",
    "    numCols = [col for col in dataframe.columns if dataframe[col].dtypes != \"O\"]\n",
    "    numCols = [col for col in numCols if col not in numButCat]\n",
    "\n",
    "    print(f\"Observations: {dataframe.shape[0]}\")\n",
    "    print(f\"Variables: {dataframe.shape[1]}\")\n",
    "    print(f'catCols: {len(catCols)}')\n",
    "    print(f'numCols: {len(numCols)}')\n",
    "    print(f'catButCar: {len(catButCar)}')\n",
    "    print(f'numButCat: {len(numButCat)}')\n",
    "    return catCols, numCols, catButCar\n",
    "\n",
    "catCols, numCols, catButCar = grabColNames(df)\n",
    "\n",
    "numCols = [col for col in numCols if col not in \"PassengerId\"]\n",
    "\n",
    "for col in numCols:\n",
    "    print(col, checkOutlier(df, col))\n",
    "\n",
    "\n",
    "catCols, numCols, catButCar = grabColNames(dff)\n",
    "\n",
    "numCols = [col for col in numCols if col not in \"SK_ID_CURR\"]\n",
    "\n",
    "for col in numCols:\n",
    "    print(col, checkOutlier(dff, col))"
   ]
  },
  {
   "cell_type": "markdown",
   "metadata": {
    "collapsed": false,
    "pycharm": {
     "name": "#%% md\n"
    }
   },
   "source": [
    "# Aykırı Değerlerin Kendilerine Erişmek"
   ]
  },
  {
   "cell_type": "code",
   "execution_count": 14,
   "outputs": [
    {
     "name": "stdout",
     "output_type": "stream",
     "text": [
      "     PassengerId  Survived  Pclass                            Name   Sex  \\\n",
      "33            34         0       2           Wheadon, Mr. Edward H  male   \n",
      "54            55         0       1  Ostby, Mr. Engelhart Cornelius  male   \n",
      "96            97         0       1       Goldschmidt, Mr. George B  male   \n",
      "116          117         0       3            Connors, Mr. Patrick  male   \n",
      "280          281         0       3                Duane, Mr. Frank  male   \n",
      "\n",
      "       Age  SibSp  Parch      Ticket   Fare Cabin Embarked  \n",
      "33  66.000      0      0  C.A. 24579 10.500   NaN        S  \n",
      "54  65.000      0      1      113509 61.979   B30        C  \n",
      "96  71.000      0      0    PC 17754 34.654    A5        C  \n",
      "116 70.500      0      0      370369  7.750   NaN        Q  \n",
      "280 65.000      0      0      336439  7.750   NaN        Q  \n"
     ]
    }
   ],
   "source": [
    "def grabOutliers(dataframe, colName, index=False):\n",
    "    low, up = outlierThresholds(dataframe, colName)\n",
    "\n",
    "    if dataframe[((dataframe[colName] < low) | (dataframe[colName] > up))].shape[0] > 10:\n",
    "        print(dataframe[((dataframe[colName] < low) | (dataframe[colName] > up))].head())\n",
    "    else:\n",
    "        print(dataframe[((dataframe[colName] < low) | (dataframe[colName] > up))])\n",
    "\n",
    "    if index:\n",
    "        outlier_index = dataframe[((dataframe[colName] < low) | (dataframe[colName] > up))].index\n",
    "        return outlier_index\n",
    "\n",
    "grabOutliers(df, \"Age\")"
   ],
   "metadata": {
    "collapsed": false,
    "pycharm": {
     "name": "#%%\n"
    }
   }
  },
  {
   "cell_type": "code",
   "execution_count": 15,
   "outputs": [
    {
     "name": "stdout",
     "output_type": "stream",
     "text": [
      "     PassengerId  Survived  Pclass                            Name   Sex  \\\n",
      "33            34         0       2           Wheadon, Mr. Edward H  male   \n",
      "54            55         0       1  Ostby, Mr. Engelhart Cornelius  male   \n",
      "96            97         0       1       Goldschmidt, Mr. George B  male   \n",
      "116          117         0       3            Connors, Mr. Patrick  male   \n",
      "280          281         0       3                Duane, Mr. Frank  male   \n",
      "\n",
      "       Age  SibSp  Parch      Ticket   Fare Cabin Embarked  \n",
      "33  66.000      0      0  C.A. 24579 10.500   NaN        S  \n",
      "54  65.000      0      1      113509 61.979   B30        C  \n",
      "96  71.000      0      0    PC 17754 34.654    A5        C  \n",
      "116 70.500      0      0      370369  7.750   NaN        Q  \n",
      "280 65.000      0      0      336439  7.750   NaN        Q  \n"
     ]
    },
    {
     "data": {
      "text/plain": "Int64Index([33, 54, 96, 116, 280, 456, 493, 630, 672, 745, 851], dtype='int64')"
     },
     "execution_count": 15,
     "metadata": {},
     "output_type": "execute_result"
    }
   ],
   "source": [
    "grabOutliers(df, \"Age\", True)"
   ],
   "metadata": {
    "collapsed": false,
    "pycharm": {
     "name": "#%%\n"
    }
   }
  },
  {
   "cell_type": "code",
   "execution_count": 16,
   "outputs": [
    {
     "name": "stdout",
     "output_type": "stream",
     "text": [
      "True\n"
     ]
    }
   ],
   "source": [
    "print(checkOutlier(df, \"Age\"))"
   ],
   "metadata": {
    "collapsed": false,
    "pycharm": {
     "name": "#%%\n"
    }
   }
  },
  {
   "cell_type": "code",
   "execution_count": 17,
   "outputs": [
    {
     "name": "stdout",
     "output_type": "stream",
     "text": [
      "(-6.6875, 64.8125)\n"
     ]
    }
   ],
   "source": [
    "print(outlierThresholds(df, \"Age\"))"
   ],
   "metadata": {
    "collapsed": false,
    "pycharm": {
     "name": "#%%\n"
    }
   }
  },
  {
   "cell_type": "code",
   "execution_count": 18,
   "outputs": [
    {
     "name": "stdout",
     "output_type": "stream",
     "text": [
      "     PassengerId  Survived  Pclass                            Name   Sex  \\\n",
      "33            34         0       2           Wheadon, Mr. Edward H  male   \n",
      "54            55         0       1  Ostby, Mr. Engelhart Cornelius  male   \n",
      "96            97         0       1       Goldschmidt, Mr. George B  male   \n",
      "116          117         0       3            Connors, Mr. Patrick  male   \n",
      "280          281         0       3                Duane, Mr. Frank  male   \n",
      "\n",
      "       Age  SibSp  Parch      Ticket   Fare Cabin Embarked  \n",
      "33  66.000      0      0  C.A. 24579 10.500   NaN        S  \n",
      "54  65.000      0      1      113509 61.979   B30        C  \n",
      "96  71.000      0      0    PC 17754 34.654    A5        C  \n",
      "116 70.500      0      0      370369  7.750   NaN        Q  \n",
      "280 65.000      0      0      336439  7.750   NaN        Q  \n",
      "Int64Index([33, 54, 96, 116, 280, 456, 493, 630, 672, 745, 851], dtype='int64')\n"
     ]
    }
   ],
   "source": [
    "print(grabOutliers(df, \"Age\", True))"
   ],
   "metadata": {
    "collapsed": false,
    "pycharm": {
     "name": "#%%\n"
    }
   }
  }
 ],
 "metadata": {
  "kernelspec": {
   "display_name": "Python 3",
   "language": "python",
   "name": "python3"
  },
  "language_info": {
   "codemirror_mode": {
    "name": "ipython",
    "version": 3
   },
   "file_extension": ".py",
   "mimetype": "text/x-python",
   "name": "python",
   "nbconvert_exporter": "python",
   "pygments_lexer": "ipython3",
   "version": "3.8.8"
  },
  "vscode": {
   "interpreter": {
    "hash": "434691f1ecaf466ba8ee38280735dd626cdf07e55467611e3966387a302373c5"
   }
  }
 },
 "nbformat": 4,
 "nbformat_minor": 2
}