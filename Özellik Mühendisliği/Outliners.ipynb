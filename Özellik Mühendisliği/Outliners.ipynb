{
 "cells": [
  {
   "cell_type": "markdown",
   "metadata": {},
   "source": [
    "### Özellik Mühendisliği & Veri Ön İşleme(Feature Engineering & Data Preprocessing)"
   ]
  },
  {
   "cell_type": "markdown",
   "metadata": {},
   "source": [
    "- Eğer veriniz kötüyse makine öğrenim araçlarınız kullanışlı olmayacaktır.\n",
    "- Dünyanın en önemli kaynağı petrol değil veridir.\n",
    "Özellik mühendisliği: Özellik üzerinde gerçekleştirilen çalışmalar ve ham veriden değişken üretmektir.\n",
    "Veri Ön İşleme: Çalışmalar öncesi verinin uygun hale getirilmesi sürecidir."
   ]
  },
  {
   "cell_type": "markdown",
   "metadata": {},
   "source": [
    "### OUTLIERS(Aykırı Değerler)\n",
    "- Verideki genel eğilimin oldukça dışına çıkan değerlere **aykırı değer** denir.\n",
    "- Özellikle doğrusal problemlerde aykırı değerlerin şiddeti oldukça güçlüdür.\n",
    "- Ağaç yöntemlerinde bu etkiler daha düşüktür."
   ]
  },
  {
   "cell_type": "markdown",
   "metadata": {},
   "source": []
  }
 ],
 "metadata": {
  "kernelspec": {
   "display_name": "Python 3.10.5 64-bit",
   "language": "python",
   "name": "python3"
  },
  "language_info": {
   "name": "python",
   "version": "3.10.5"
  },
  "orig_nbformat": 4,
  "vscode": {
   "interpreter": {
    "hash": "5026d2d6e7aaaaba093def813beadff083d8733e4a511af01735cbabd156995d"
   }
  }
 },
 "nbformat": 4,
 "nbformat_minor": 2
}
